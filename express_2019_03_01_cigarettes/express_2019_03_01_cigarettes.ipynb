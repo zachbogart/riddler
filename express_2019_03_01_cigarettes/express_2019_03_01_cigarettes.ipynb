{
 "cells": [
  {
   "cell_type": "markdown",
   "metadata": {},
   "source": [
    "# Riddler Express: Red Dead Redemption 2 \n",
    "## Cigarette Cards\n",
    "\n",
    "### The Problem\n",
    "\n",
    "In the video game “Red Dead Redemption 2,” there is a side quest where the main character is supposed to collect 12 sets of cigarette cards, each consisting of 12 unique cards.\n",
    "\n",
    "Some cards can be found lying around in the open world, but the easiest way to collect the cards is to buy cigarettes at the store and collect the single random card included in each pack. Suppose Arthur is too lazy to look for cards in the open world and tries to complete the set only by buying packs at the store.\n",
    "\n",
    "At $5 a pack, how much money do we expect Arthur to spend to complete all 12 sets?\n",
    "\n",
    "https://fivethirtyeight.com/features/youre-home-alone-you-can-buy-zillions-of-video-game-cigarettes-or-beat-yourself-at-bananagrams/\n",
    "\n",
    "(Problem by Gerald Dorrer)"
   ]
  },
  {
   "cell_type": "markdown",
   "metadata": {},
   "source": [
    "## Theory"
   ]
  },
  {
   "cell_type": "markdown",
   "metadata": {},
   "source": [
    "- What do we expect this to give us?\n",
    "\n",
    "All we care about is the number of cards we need to get. We have 12 sets each with 12 unique cards, so there are 144 cards to collect.\n",
    "\n",
    "As we collect cards, it becomes harder and harder to find one that we don't already have. Let's look at how many cards it takes to get a new card we don't have yet.\n",
    "\n",
    "Let $N_i$ be the number of cards it takes to get the (i + 1)th card. So $N_0$ is the number of cards it takes to get the first card, $N_{100}$ is the number of cards to get the 101st card, etc.\n",
    "\n",
    "Let's look at $N_{100}$. In this state, we already have 100 cards and are buying packs to get our 101st card. Every time we get a new pack, two things could happen.\n",
    "\n",
    "1. We get a new card we don't have yet\n",
    "2. We get a card we already have\n",
    "\n",
    "If we get a new card, great! We move on to getting another card we haven't seen. But, it we don't get a new card, it is like we haven't made any progress. We still have to keep drawing to get our 101st card. We have 100 cases where we have to keep drawing and 44 cases where we hit a new card. So, on average, we can write N_{100} as the following:\n",
    "\n",
    "$N_{100} = \\frac{100(1+N_{100})+44(1)}{144}$\n",
    "\n",
    "We can solve for $N_{100}$ and come up with:\n",
    "\n",
    "$N_{100} = \\frac{144}{44}$\n",
    "\n",
    "We can do this for every value of i. In other words, we can find the average number of cards necessary to get a card we don't have at every step, giving us the total number of cards to get a full set. This comes out to a nice summation:\n",
    "\n",
    "Number of cards to get full set $= \\sum_{i = 0}^{143} \\frac{144}{144 - i}$\n",
    "\n",
    "[WolframAlpha](https://www.wolframalpha.com/input/?i=sum+from+0+to+143+of+144%2F(144-x)) tells us this comes out to 799.271\n",
    "\n",
    "So, adding in the cost per pack, we expect Arthur will be spending about \\\\$4000 to complete his set (\\\\$3996.36)\n",
    "\n",
    "Let's see if this works in practice!"
   ]
  },
  {
   "cell_type": "markdown",
   "metadata": {},
   "source": [
    "**Note**: There is [a lovely Numberphile video](https://www.youtube.com/watch?v=aKPkQCys86c) featuring Federico Ardila which uses this method to find the cost of filling in the Panini World Cup Sticker Booklets. \n",
    "\n",
    "It also goes further because, in the Panini case, sharing cards with friends is a big part of the experience. \n",
    "\n",
    "But our rugged hero Arthur prefers to play alone..."
   ]
  },
  {
   "cell_type": "markdown",
   "metadata": {},
   "source": [
    "## Simulate\n",
    "- Here we simulate the game and see how the results compare to the math\n",
    "- Spoiler: The results replicate the predicted result from the math...woot!"
   ]
  },
  {
   "cell_type": "code",
   "execution_count": 30,
   "metadata": {},
   "outputs": [],
   "source": [
    "from random import randint\n",
    "from datetime import datetime\n",
    "import matplotlib.pyplot as plt"
   ]
  },
  {
   "cell_type": "markdown",
   "metadata": {},
   "source": [
    "Function returns number of cards drawn to get a full set of 144:"
   ]
  },
  {
   "cell_type": "code",
   "execution_count": 31,
   "metadata": {},
   "outputs": [],
   "source": [
    "def buy_cigarettes():\n",
    "    cards_to_get = 144\n",
    "    my_cards = [False] * cards_to_get\n",
    "    cards_i_have = 0\n",
    "    cards_drawn = 0\n",
    "\n",
    "    while cards_i_have < cards_to_get:\n",
    "        # get a random card\n",
    "        new_card = randint(0, (cards_to_get - 1))\n",
    "        cards_drawn += 1\n",
    "\n",
    "        # I don't have this card yet in my collection\n",
    "        if not my_cards[new_card]:\n",
    "            my_cards[new_card] = True\n",
    "            cards_i_have += 1\n",
    "\n",
    "        # check if I have all of the cards\n",
    "        if cards_i_have == cards_to_get:\n",
    "            # print(\"I have all of the cards!\")\n",
    "            # print(f\"It took me {cards_drawn} cards to get there.\")\n",
    "            return cards_drawn"
   ]
  },
  {
   "cell_type": "markdown",
   "metadata": {},
   "source": [
    "Let's run it a bunch!"
   ]
  },
  {
   "cell_type": "code",
   "execution_count": 32,
   "metadata": {},
   "outputs": [
    {
     "name": "stdout",
     "output_type": "stream",
     "text": [
      "For 100000 trials, it took 799.31219 cards to get them all, on average.\n",
      "So we expect Arthur will spend $3996.56 on average to complete the set.\n"
     ]
    }
   ],
   "source": [
    "number_of_trials = 100000 \n",
    "average_to_complete = 0\n",
    "trials = []\n",
    "\n",
    "for trial in range(number_of_trials):\n",
    "\n",
    "    card_number = buy_cigarettes()\n",
    "    trials.append(card_number * 5) # store cost\n",
    "\n",
    "    average_to_complete += card_number\n",
    "\n",
    "average_to_complete /= number_of_trials\n",
    "\n",
    "print(f\"For {number_of_trials} trials, it took {average_to_complete} cards to get them all, on average.\")\n",
    "print(f\"So we expect Arthur will spend ${round(average_to_complete * 5, 2)} on average to complete the set.\")"
   ]
  },
  {
   "cell_type": "markdown",
   "metadata": {},
   "source": [
    "We see the average lines up with our intuition from the math. As do the results of our simulations:"
   ]
  },
  {
   "cell_type": "code",
   "execution_count": 35,
   "metadata": {},
   "outputs": [
    {
     "data": {
      "image/png": "[encoded data removed]",
      "text/plain": [
       "<Figure size 432x288 with 1 Axes>"
      ]
     },
     "metadata": {
      "needs_background": "light"
     },
     "output_type": "display_data"
    },
    {
     "data": {
      "image/png": "[encoded data removed]",
      "text/plain": [
       "<Figure size 432x288 with 1 Axes>"
      ]
     },
     "metadata": {
      "needs_background": "light"
     },
     "output_type": "display_data"
    }
   ],
   "source": [
    "plt.plot(trials)\n",
    "plt.title(\"Unsorted\")\n",
    "plt.ylabel(\"Cost to complete ($)\")\n",
    "plt.show()\n",
    "\n",
    "plt.plot(sorted(trials))\n",
    "plt.title(\"Sorted by Cards Needed to Complete\")\n",
    "plt.ylabel(\"Cost to complete ($)\")\n",
    "plt.axhline(y=average_to_complete * 5, color='r', linestyle='--')\n",
    "plt.show()"
   ]
  },
  {
   "cell_type": "markdown",
   "metadata": {},
   "source": [
    "Of course sometimes it will cost you less, but it can get pretty pricey. $10K is a lot of cigs."
   ]
  },
  {
   "cell_type": "markdown",
   "metadata": {},
   "source": [
    "Happy Puzzling!\n",
    "\n",
    "Zach\n",
    "\n",
    "https://zachbogart.com/"
   ]
  }
 ],
 "metadata": {
  "kernelspec": {
   "display_name": "Python 3",
   "language": "python",
   "name": "python3"
  },
  "language_info": {
   "codemirror_mode": {
    "name": "ipython",
    "version": 3
   },
   "file_extension": ".py",
   "mimetype": "text/x-python",
   "name": "python",
   "nbconvert_exporter": "python",
   "pygments_lexer": "ipython3",
   "version": "3.6.7"
  }
 },
 "nbformat": 4,
 "nbformat_minor": 2
}
